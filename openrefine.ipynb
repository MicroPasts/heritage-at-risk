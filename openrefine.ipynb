{
 "cells": [
  {
   "cell_type": "code",
   "execution_count": 2,
   "id": "8869f8b2-8a7e-4dbb-aade-4842e6977d26",
   "metadata": {},
   "outputs": [
    {
     "ename": "ERROR",
     "evalue": "Error: lexical error: invalid char in json text.\n                                       ./openrefine/json/openrefine-co\n                     (right here) ------^\n\n",
     "output_type": "error",
     "traceback": [
      "Error: lexical error: invalid char in json text.\n                                       ./openrefine/json/openrefine-co\n                     (right here) ------^\n\nTraceback:\n",
      "1. parse_and_simplify(txt = txt, simplifyVector = simplifyVector, \n .     simplifyDataFrame = simplifyDataFrame, simplifyMatrix = simplifyMatrix, \n .     flatten = flatten, ...)",
      "2. parseJSON(txt, bigint_as_char)",
      "3. parse_string(txt, bigint_as_char)",
      "4. .handleSimpleError(function (cnd) \n . {\n .     watcher$capture_plot_and_output()\n .     cnd <- sanitize_call(cnd)\n .     watcher$push(cnd)\n .     switch(on_error, continue = invokeRestart(\"eval_continue\"), \n .         stop = invokeRestart(\"eval_stop\"), error = NULL)\n . }, \"lexical error: invalid char in json text.\\n                                       ./openrefine/json/openrefine-co\\n                     (right here) ------^\\n\", \n .     base::quote(NULL))"
     ]
    }
   ],
   "source": [
    "\n",
    "library(jsonlite)\n",
    "library(dplyr)\n",
    "\n",
    "# Read the JSON file\n",
    "json_file <- \"./openrefine/json/openrefine-commands.json\"\n",
    "json_data <- fromJSON(json_file, flatten = TRUE)\n",
    "\n",
    "# Extract relevant information\n",
    "extract_info <- function(op) {\n",
    "  data.frame(\n",
    "    colname = op$columnName,\n",
    "    expression = op$expression,\n",
    "    description = op$description,\n",
    "    stringsAsFactors = FALSE\n",
    "  )\n",
    "}\n",
    "\n",
    "# Filter and format the data\n",
    "formatted_data <- json_data %>%\n",
    "  filter(op == \"core/text-transform\") %>%\n",
    "  rowwise() %>%\n",
    "  do(extract_info(.))\n",
    "\n",
    "# Print the formatted data\n",
    "print(formatted_data)"
   ]
  },
  {
   "cell_type": "code",
   "execution_count": null,
   "id": "0c1f3076-2c1a-400f-91e4-589b5ec3c931",
   "metadata": {},
   "outputs": [],
   "source": []
  },
  {
   "cell_type": "code",
   "execution_count": null,
   "id": "e64d8bf0-4fe2-4934-9dfe-1eb6b3374ab3",
   "metadata": {},
   "outputs": [],
   "source": []
  }
 ],
 "metadata": {
  "kernelspec": {
   "display_name": "R",
   "language": "R",
   "name": "ir"
  },
  "language_info": {
   "codemirror_mode": "r",
   "file_extension": ".r",
   "mimetype": "text/x-r-source",
   "name": "R",
   "pygments_lexer": "r",
   "version": "4.4.2"
  }
 },
 "nbformat": 4,
 "nbformat_minor": 5
}
