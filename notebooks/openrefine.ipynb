{
 "cells": [
  {
   "cell_type": "markdown",
   "id": "301f340d-bcb8-478d-9983-c11857d06bf4",
   "metadata": {},
   "source": [
    "# A formatted list of open refine commands used to format data"
   ]
  },
  {
   "cell_type": "markdown",
   "id": "9490e975-ac8d-48af-9166-836a6bf90e14",
   "metadata": {},
   "source": [
    "This r script parses the openrefine json command export and tells you step by step what I did to refine these data and reconcile \n",
    "against various wikidata and other resources to produce the enhanced dataset. "
   ]
  },
  {
   "cell_type": "code",
   "execution_count": 5,
   "id": "8bea8421-249d-4ddb-a5e3-c4170ce7fab8",
   "metadata": {},
   "outputs": [
    {
     "name": "stdout",
     "output_type": "stream",
     "text": [
      "\u001b[90m# A tibble: 132 × 3\u001b[39m\n",
      "\u001b[90m# Rowwise: \u001b[39m\n",
      "   colname                    expression   description                          \n",
      "   \u001b[3m\u001b[90m<chr>\u001b[39m\u001b[23m                      \u001b[3m\u001b[90m<chr>\u001b[39m\u001b[23m        \u001b[3m\u001b[90m<chr>\u001b[39m\u001b[23m                                \n",
      "\u001b[90m 1\u001b[39m designated_site_name       value.trim() Text transform on cells in column de…\n",
      "\u001b[90m 2\u001b[39m heritage_category          value.trim() Text transform on cells in column he…\n",
      "\u001b[90m 3\u001b[39m local_planning_authority   value.trim() Text transform on cells in column lo…\n",
      "\u001b[90m 4\u001b[39m site_type                  value.trim() Text transform on cells in column si…\n",
      "\u001b[90m 5\u001b[39m site_sub_type              value.trim() Text transform on cells in column si…\n",
      "\u001b[90m 6\u001b[39m county                     value.trim() Text transform on cells in column co…\n",
      "\u001b[90m 7\u001b[39m district_or_borough        value.trim() Text transform on cells in column di…\n",
      "\u001b[90m 8\u001b[39m parish                     value.trim() Text transform on cells in column pa…\n",
      "\u001b[90m 9\u001b[39m parliamentary_constituency value.trim() Text transform on cells in column pa…\n",
      "\u001b[90m10\u001b[39m region                     value.trim() Text transform on cells in column re…\n",
      "\u001b[90m# ℹ 122 more rows\u001b[39m\n"
     ]
    }
   ],
   "source": [
    "library(jsonlite)\n",
    "library(dplyr)\n",
    "library(knitr)\n",
    "# Read the JSON file\n",
    "json_file <- \"./openrefine/json/openrefine-commands.json\"\n",
    "json_data <- fromJSON(json_file, flatten = TRUE)\n",
    "\n",
    "# Extract relevant information\n",
    "extract_info <- function(op) {\n",
    "  data.frame(\n",
    "    colname = op$columnName,\n",
    "    expression = op$expression,\n",
    "    description = op$description,\n",
    "    stringsAsFactors = FALSE\n",
    "  )\n",
    "}\n",
    "\n",
    "# Filter and format the data\n",
    "formatted_data <- json_data %>%\n",
    "  rowwise() %>%\n",
    "  do(extract_info(.))\n",
    "\n",
    "\n",
    "# Print the formatted data\n",
    "print(formatted_data)\n",
    "\n",
    "# Convert to markdown table\n",
    "markdown_table <- formatted_data %>%\n",
    "  mutate_all(~replace(., is.na(.), \"\")) %>%\n",
    "  knitr::kable(format = \"markdown\")\n",
    "\n",
    "\n",
    "# Save the markdown table to a file\n",
    "output_file <- \"./openrefine-commands.md\"\n",
    "writeLines(markdown_table, con = output_file)\n",
    "message('The commands have been formatted to a markdown table')"
   ]
  }
 ],
 "metadata": {
  "kernelspec": {
   "display_name": "R",
   "language": "R",
   "name": "ir"
  },
  "language_info": {
   "codemirror_mode": "r",
   "file_extension": ".r",
   "mimetype": "text/x-r-source",
   "name": "R",
   "pygments_lexer": "r",
   "version": "4.4.2"
  }
 },
 "nbformat": 4,
 "nbformat_minor": 5
}
